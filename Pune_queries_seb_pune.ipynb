{
 "cells": [
  {
   "cell_type": "markdown",
   "metadata": {},
   "source": [
    "# Pune queries seb_pune"
   ]
  },
  {
   "cell_type": "markdown",
   "metadata": {},
   "source": [
    "## 1. Number of nodes:"
   ]
  },
  {
   "cell_type": "code",
   "execution_count": 2,
   "metadata": {},
   "outputs": [
    {
     "name": "stdout",
     "output_type": "stream",
     "text": [
      "         0\n",
      "0  1418393\n"
     ]
    }
   ],
   "source": [
    "import sqlite3\n",
    "data=sqlite3.connect(\"seb_pune.db\")\n",
    "c=data.cursor()\n",
    "QUERY='''SELECT count(*)as num from nodes;'''\n",
    "c.execute(QUERY)\n",
    "rows=c.fetchall()\n",
    "import pandas as pd    \n",
    "dataframe=pd.DataFrame(rows)\n",
    "print dataframe\n",
    "data.close()"
   ]
  },
  {
   "cell_type": "markdown",
   "metadata": {},
   "source": [
    "## 2. Number of ways"
   ]
  },
  {
   "cell_type": "code",
   "execution_count": 3,
   "metadata": {},
   "outputs": [
    {
     "name": "stdout",
     "output_type": "stream",
     "text": [
      "        0\n",
      "0  270313\n"
     ]
    }
   ],
   "source": [
    "import sqlite3\n",
    "data=sqlite3.connect(\"seb_pune.db\")\n",
    "c=data.cursor()\n",
    "QUERY='''SELECT count(*)as num from ways;'''\n",
    "c.execute(QUERY)\n",
    "rows=c.fetchall()\n",
    "import pandas as pd    \n",
    "dataframe=pd.DataFrame(rows)\n",
    "print dataframe\n",
    "data.close()"
   ]
  },
  {
   "cell_type": "markdown",
   "metadata": {},
   "source": [
    "## 3. Number of unique users "
   ]
  },
  {
   "cell_type": "code",
   "execution_count": 8,
   "metadata": {},
   "outputs": [
    {
     "name": "stdout",
     "output_type": "stream",
     "text": [
      "                           0\n",
      "0                   PlaneMad\n",
      "1                      norky\n",
      "2                  singleton\n",
      "3                    Heinz_V\n",
      "4                        JND\n",
      "5            Rahul Maindargi\n",
      "6                  katpatuka\n",
      "7                  shalinins\n",
      "8                 mapusdotin\n",
      "9              nirvanareborn\n",
      "10            Pradnya shende\n",
      "11                   shiva05\n",
      "12                adivik2000\n",
      "13                    Mettal\n",
      "14                  AdyShake\n",
      "15                AbhishekAJ\n",
      "16             Manas Sambhus\n",
      "17                 maheshrkm\n",
      "18                Navaneetha\n",
      "19                  mahesham\n",
      "20                     vraju\n",
      "21                   aveekbh\n",
      "22                   cdavila\n",
      "23                 parambyte\n",
      "24                    uday01\n",
      "25             Indrayudh Roy\n",
      "26                   fulcrum\n",
      "27                    Tinkle\n",
      "28   Praveen Arimbrathodiyil\n",
      "29                  Oberaffe\n",
      "..                       ...\n",
      "661                  SUVIRON\n",
      "662        prashant bhaskara\n",
      "663                 AmolBhat\n",
      "664                    Adi28\n",
      "665           Subodh Bangale\n",
      "666                   ankeyc\n",
      "667             Rohan Thorat\n",
      "668      Pioneer Impressions\n",
      "669                      X I\n",
      "670             Mahesh Awhad\n",
      "671                ROSHINI25\n",
      "672           Shantanu Joshi\n",
      "673                Ajay Nair\n",
      "674                    chats\n",
      "675              Ashish Raut\n",
      "676           Pannkaj Osswal\n",
      "677               Gurumantra\n",
      "678           Hitesh Barhate\n",
      "679           Ravindra Patil\n",
      "680             prafful lele\n",
      "681   Dnyaneshwar Rajkuntwar\n",
      "682           Sandeep Parkhi\n",
      "683                   LSSuls\n",
      "684           Anil Pisharody\n",
      "685         Sourabh Nanaware\n",
      "686               Nutan Lele\n",
      "687      Aniket Pandharabale\n",
      "688            Manish Ostwal\n",
      "689           Christoph Lotz\n",
      "690            rahul punjabi\n",
      "\n",
      "[691 rows x 1 columns]\n",
      "691 Unique users\n"
     ]
    }
   ],
   "source": [
    "import sqlite3\n",
    "data=sqlite3.connect(\"seb_pune.db\")\n",
    "c=data.cursor()\n",
    "QUERY='''SELECT DISTINCT(user) from (select user from nodes UNION ALL select user from ways);'''\n",
    "c.execute(QUERY)\n",
    "rows=c.fetchall()\n",
    "import pandas as pd    \n",
    "dataframe=pd.DataFrame(rows)\n",
    "print dataframe\n",
    "print len(dataframe),\"Unique users\"\n",
    "data.close()"
   ]
  },
  {
   "cell_type": "markdown",
   "metadata": {},
   "source": [
    "## 4. Top 10 contributing users"
   ]
  },
  {
   "cell_type": "code",
   "execution_count": 11,
   "metadata": {},
   "outputs": [
    {
     "name": "stdout",
     "output_type": "stream",
     "text": [
      "               0      1\n",
      "0      singleton  96636\n",
      "1    harishvarma  60143\n",
      "2  jasvinderkaur  57694\n",
      "3        sramesh  57627\n",
      "4       praveeng  56788\n",
      "5        shiva05  51899\n",
      "6    anushapyata  49530\n",
      "7   kranthikumar  47440\n",
      "8        harishk  43180\n",
      "9       saikumar  40332\n"
     ]
    }
   ],
   "source": [
    "import sqlite3\n",
    "data=sqlite3.connect(\"seb_pune.db\")\n",
    "c=data.cursor()\n",
    "QUERY='''SELECT user,count(user)  from (select user from nodes UNION ALL select user from ways)\n",
    "group by user \n",
    "order by  count(user) desc \n",
    "limit 10;'''\n",
    "c.execute(QUERY) \n",
    "rows=c.fetchall()\n",
    "import pandas as pd    \n",
    "dataframe=pd.DataFrame(rows)\n",
    "print dataframe\n",
    "data.close()"
   ]
  },
  {
   "cell_type": "markdown",
   "metadata": {},
   "source": [
    "## 5. Biggest religion"
   ]
  },
  {
   "cell_type": "code",
   "execution_count": 14,
   "metadata": {},
   "outputs": [
    {
     "name": "stdout",
     "output_type": "stream",
     "text": [
      "       0    1\n",
      "0  hindu  227\n"
     ]
    }
   ],
   "source": [
    "import sqlite3\n",
    "data=sqlite3.connect(\"seb_pune.db\")\n",
    "c=data.cursor()\n",
    "QUERY='''SELECT value,count(*)as num from (select value,key from nodes_tags  UNION ALL select value,key from ways_tags)\n",
    "where key='religion'\n",
    "group by value\n",
    "order by num desc\n",
    "limit 1;'''\n",
    "c.execute(QUERY)\n",
    "rows=c.fetchall()\n",
    "import pandas as pd    \n",
    "dataframe=pd.DataFrame(rows)\n",
    "print dataframe\n",
    "data.close()"
   ]
  },
  {
   "cell_type": "markdown",
   "metadata": {},
   "source": [
    "## 6. Top 10 appearing amenities"
   ]
  },
  {
   "cell_type": "code",
   "execution_count": 4,
   "metadata": {},
   "outputs": [
    {
     "name": "stdout",
     "output_type": "stream",
     "text": [
      "            0    1\n",
      "0  restaurant  153\n",
      "1        cafe   55\n",
      "2    hospital   48\n",
      "3   fast_food   46\n",
      "4        bank   45\n",
      "5      school   39\n",
      "6     toilets   34\n",
      "7         atm   30\n",
      "8        fuel   25\n",
      "9    pharmacy   24\n"
     ]
    }
   ],
   "source": [
    "import sqlite3\n",
    "data=sqlite3.connect(\"seb_pune.db\")\n",
    "c=data.cursor()\n",
    "QUERY='''SELECT value,count(*)as num from (select value,key from nodes_tags  UNION ALL select value,key from ways_tags)\n",
    "where key='amenity'\n",
    "group by value\n",
    "order by num desc\n",
    "limit 10;'''\n",
    "c.execute(QUERY)\n",
    "rows=c.fetchall()\n",
    "import pandas as pd    \n",
    "dataframe=pd.DataFrame(rows)\n",
    "print dataframe\n",
    "data.close()"
   ]
  },
  {
   "cell_type": "code",
   "execution_count": null,
   "metadata": {
    "collapsed": true
   },
   "outputs": [],
   "source": []
  }
 ],
 "metadata": {
  "kernelspec": {
   "display_name": "Python 2",
   "language": "python",
   "name": "python2"
  },
  "language_info": {
   "codemirror_mode": {
    "name": "ipython",
    "version": 2
   },
   "file_extension": ".py",
   "mimetype": "text/x-python",
   "name": "python",
   "nbconvert_exporter": "python",
   "pygments_lexer": "ipython2",
   "version": "2.7.13"
  }
 },
 "nbformat": 4,
 "nbformat_minor": 2
}
